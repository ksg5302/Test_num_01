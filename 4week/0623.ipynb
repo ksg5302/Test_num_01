{
 "metadata": {
  "language_info": {
   "codemirror_mode": {
    "name": "ipython",
    "version": 3
   },
   "file_extension": ".py",
   "mimetype": "text/x-python",
   "name": "python",
   "nbconvert_exporter": "python",
   "pygments_lexer": "ipython3",
   "version": "3.8.10"
  },
  "orig_nbformat": 4,
  "kernelspec": {
   "name": "python3",
   "display_name": "Python 3.8.10 64-bit ('data_analysis': conda)"
  },
  "interpreter": {
   "hash": "cfa0f6244bab1a0eecbbf3745d828d43fc1ef6893b18d237a80ac5f86454771f"
  }
 },
 "nbformat": 4,
 "nbformat_minor": 2,
 "cells": [
  {
   "cell_type": "code",
   "execution_count": 12,
   "metadata": {},
   "outputs": [],
   "source": [
    "from tensorflow.keras.datasets import imdb\n",
    "from tensorflow.keras.preprocessing.sequence import pad_sequences"
   ]
  },
  {
   "cell_type": "code",
   "execution_count": 14,
   "metadata": {},
   "outputs": [],
   "source": [
    "max_features = 10000\n",
    "maxlen = 100\n",
    "(x_train, y_train), (x_test, y_test) = imdb.load_data(num_words=max_features)\n",
    "\n",
    "x_train = pad_sequences(x_train, maxlen = maxlen)\n",
    "x_test = pad_sequences(x_test, maxlen= maxlen)"
   ]
  },
  {
   "cell_type": "code",
   "execution_count": 15,
   "metadata": {},
   "outputs": [
    {
     "output_type": "execute_result",
     "data": {
      "text/plain": [
       "array([[1415,   33,    6, ...,   19,  178,   32],\n",
       "       [ 163,   11, 3215, ...,   16,  145,   95],\n",
       "       [1301,    4, 1873, ...,    7,  129,  113],\n",
       "       ...,\n",
       "       [  11,    6, 4065, ...,    4, 3586,    2],\n",
       "       [ 100, 2198,    8, ...,   12,    9,   23],\n",
       "       [  78, 1099,   17, ...,  204,  131,    9]], dtype=int32)"
      ]
     },
     "metadata": {},
     "execution_count": 15
    }
   ],
   "source": [
    "x_train"
   ]
  },
  {
   "cell_type": "code",
   "execution_count": 16,
   "metadata": {},
   "outputs": [
    {
     "output_type": "execute_result",
     "data": {
      "text/plain": [
       "(25000, 100)"
      ]
     },
     "metadata": {},
     "execution_count": 16
    }
   ],
   "source": [
    "x_train.shape"
   ]
  },
  {
   "cell_type": "code",
   "execution_count": 18,
   "metadata": {},
   "outputs": [],
   "source": [
    "from tensorflow.keras.models import Sequential\n",
    "from tensorflow.keras.layers import Dense, Embedding, GRU, LSTM, SimpleRNN"
   ]
  },
  {
   "cell_type": "code",
   "execution_count": 27,
   "metadata": {},
   "outputs": [
    {
     "output_type": "stream",
     "name": "stdout",
     "text": [
      "Model: \"sequential_8\"\n_________________________________________________________________\nLayer (type)                 Output Shape              Param #   \n=================================================================\nembedding_7 (Embedding)      (None, None, 32)          320000    \n_________________________________________________________________\nlstm_6 (LSTM)                (None, None, 32)          8320      \n_________________________________________________________________\ndense_6 (Dense)              (None, None, 1)           33        \n=================================================================\nTotal params: 328,353\nTrainable params: 328,353\nNon-trainable params: 0\n_________________________________________________________________\n"
     ]
    }
   ],
   "source": [
    "model = Sequential()\n",
    "# model.add(Embedding(max_features, 32))\n",
    "model.add(LSTM(32))\n",
    "model.add(LSTM(32, return_sequences=True))\n",
    "model.add(Dense(1, activation='sigmoid'))\n",
    "\n",
    "model.compile(optimizer='rmsprop', loss='binary_crossentropy', metrics=['acc'])\n",
    "model.summary()\n",
    "# history = model.fit(x_train, y_train, epochs=10, batch_size=128, validation_split=0.2)"
   ]
  },
  {
   "source": [
    "SimpleRNN"
   ],
   "cell_type": "markdown",
   "metadata": {}
  },
  {
   "cell_type": "code",
   "execution_count": 22,
   "metadata": {},
   "outputs": [
    {
     "output_type": "stream",
     "name": "stdout",
     "text": [
      "Epoch 1/10\n",
      "157/157 [==============================] - 4s 19ms/step - loss: 0.6742 - acc: 0.5553 - val_loss: 0.4527 - val_acc: 0.7948\n",
      "Epoch 2/10\n",
      "157/157 [==============================] - 3s 19ms/step - loss: 0.4005 - acc: 0.8305 - val_loss: 0.4896 - val_acc: 0.7932\n",
      "Epoch 3/10\n",
      "157/157 [==============================] - 3s 18ms/step - loss: 0.2903 - acc: 0.8875 - val_loss: 0.5533 - val_acc: 0.7926\n",
      "Epoch 4/10\n",
      "157/157 [==============================] - 3s 18ms/step - loss: 0.2174 - acc: 0.9180 - val_loss: 0.3977 - val_acc: 0.8390\n",
      "Epoch 5/10\n",
      "157/157 [==============================] - 3s 19ms/step - loss: 0.1449 - acc: 0.9505 - val_loss: 0.5707 - val_acc: 0.8160\n",
      "Epoch 6/10\n",
      "157/157 [==============================] - 3s 19ms/step - loss: 0.0954 - acc: 0.9686 - val_loss: 0.5795 - val_acc: 0.7610\n",
      "Epoch 7/10\n",
      "157/157 [==============================] - 3s 18ms/step - loss: 0.0494 - acc: 0.9864 - val_loss: 0.6134 - val_acc: 0.8072\n",
      "Epoch 8/10\n",
      "157/157 [==============================] - 3s 18ms/step - loss: 0.0270 - acc: 0.9935 - val_loss: 0.7026 - val_acc: 0.7666\n",
      "Epoch 9/10\n",
      "157/157 [==============================] - 3s 18ms/step - loss: 0.0197 - acc: 0.9951 - val_loss: 0.8575 - val_acc: 0.7366\n",
      "Epoch 10/10\n",
      "157/157 [==============================] - 3s 18ms/step - loss: 0.0105 - acc: 0.9971 - val_loss: 0.7525 - val_acc: 0.8106\n"
     ]
    }
   ],
   "source": [
    "model = Sequential()\n",
    "model.add(Embedding(max_features, 32))\n",
    "model.add(SimpleRNN(32))\n",
    "model.add(Dense(1, activation='sigmoid'))\n",
    "\n",
    "model.compile(optimizer='rmsprop', loss='binary_crossentropy', metrics=['acc'])\n",
    "history = model.fit(x_train, y_train, epochs=10, batch_size=128, validation_split=0.2)"
   ]
  },
  {
   "source": [
    "LSTM"
   ],
   "cell_type": "markdown",
   "metadata": {}
  },
  {
   "cell_type": "code",
   "execution_count": 24,
   "metadata": {},
   "outputs": [
    {
     "output_type": "stream",
     "name": "stdout",
     "text": [
      "Epoch 1/10\n",
      "157/157 [==============================] - 2s 14ms/step - loss: 0.6365 - acc: 0.6264 - val_loss: 0.5538 - val_acc: 0.7304\n",
      "Epoch 2/10\n",
      "157/157 [==============================] - 2s 13ms/step - loss: 0.4544 - acc: 0.7822 - val_loss: 0.5171 - val_acc: 0.7284\n",
      "Epoch 3/10\n",
      "157/157 [==============================] - 2s 13ms/step - loss: 0.4162 - acc: 0.8034 - val_loss: 0.5128 - val_acc: 0.7372\n",
      "Epoch 4/10\n",
      "157/157 [==============================] - 2s 13ms/step - loss: 0.3942 - acc: 0.8140 - val_loss: 0.5542 - val_acc: 0.7442\n",
      "Epoch 5/10\n",
      "157/157 [==============================] - 2s 13ms/step - loss: 0.3763 - acc: 0.8248 - val_loss: 0.5053 - val_acc: 0.7461\n",
      "Epoch 6/10\n",
      "157/157 [==============================] - 2s 13ms/step - loss: 0.3587 - acc: 0.8334 - val_loss: 0.5082 - val_acc: 0.7438\n",
      "Epoch 7/10\n",
      "157/157 [==============================] - 2s 13ms/step - loss: 0.3565 - acc: 0.8346 - val_loss: 0.5827 - val_acc: 0.7343\n",
      "Epoch 8/10\n",
      "157/157 [==============================] - 2s 13ms/step - loss: 0.3466 - acc: 0.8388 - val_loss: 0.5448 - val_acc: 0.7303\n",
      "Epoch 9/10\n",
      "157/157 [==============================] - 2s 13ms/step - loss: 0.3362 - acc: 0.8438 - val_loss: 0.5561 - val_acc: 0.7394\n",
      "Epoch 10/10\n",
      "157/157 [==============================] - 2s 13ms/step - loss: 0.3276 - acc: 0.8467 - val_loss: 0.5611 - val_acc: 0.7329\n"
     ]
    }
   ],
   "source": [
    "model = Sequential()\n",
    "model.add(Embedding(max_features, 32))\n",
    "# model.add(LSTM(32))\n",
    "model.add(LSTM(32, return_sequences=True))\n",
    "model.add(Dense(1, activation='sigmoid'))\n",
    "\n",
    "model.compile(optimizer='rmsprop', loss='binary_crossentropy', metrics=['acc'])\n",
    "history = model.fit(x_train, y_train, epochs=10, batch_size=128, validation_split=0.2)"
   ]
  },
  {
   "cell_type": "code",
   "execution_count": 26,
   "metadata": {},
   "outputs": [
    {
     "output_type": "stream",
     "name": "stdout",
     "text": [
      "Model: \"sequential_7\"\n_________________________________________________________________\nLayer (type)                 Output Shape              Param #   \n=================================================================\nembedding_6 (Embedding)      (None, None, 32)          320000    \n_________________________________________________________________\nlstm_5 (LSTM)                (None, None, 32)          8320      \n_________________________________________________________________\ndense_5 (Dense)              (None, None, 1)           33        \n=================================================================\nTotal params: 328,353\nTrainable params: 328,353\nNon-trainable params: 0\n_________________________________________________________________\n"
     ]
    }
   ],
   "source": []
  },
  {
   "cell_type": "code",
   "execution_count": null,
   "metadata": {},
   "outputs": [],
   "source": []
  }
 ]
}
{
 "cells": [
  {
   "cell_type": "markdown",
   "metadata": {},
   "source": [
    "# 패키지"
   ]
  },
  {
   "cell_type": "code",
   "execution_count": 2,
   "metadata": {},
   "outputs": [],
   "source": [
    "import numpy as np\n",
    "from tqdm import tqdm\n",
    "from glob import glob\n",
    "import os\n",
    "import pandas as pd\n",
    "import matplotlib.pylab as plt\n",
    "import tensorflow as tf\n",
    "import gc\n",
    "\n"
   ]
  },
  {
   "cell_type": "markdown",
   "metadata": {},
   "source": [
    "# 데이터"
   ]
  },
  {
   "cell_type": "code",
   "execution_count": 3,
   "metadata": {},
   "outputs": [],
   "source": [
    "default_path = './'"
   ]
  },
  {
   "cell_type": "code",
   "execution_count": 4,
   "metadata": {},
   "outputs": [],
   "source": [
    "train = pd.read_csv(default_path+'data/weekly_train.csv')\n",
    "test = pd.read_csv(default_path+'data/public_weekly_test.csv')"
   ]
  },
  {
   "cell_type": "code",
   "execution_count": 5,
   "metadata": {},
   "outputs": [
    {
     "data": {
      "text/html": [
       "<div>\n",
       "<style scoped>\n",
       "    .dataframe tbody tr th:only-of-type {\n",
       "        vertical-align: middle;\n",
       "    }\n",
       "\n",
       "    .dataframe tbody tr th {\n",
       "        vertical-align: top;\n",
       "    }\n",
       "\n",
       "    .dataframe thead th {\n",
       "        text-align: right;\n",
       "    }\n",
       "</style>\n",
       "<table border=\"1\" class=\"dataframe\">\n",
       "  <thead>\n",
       "    <tr style=\"text-align: right;\">\n",
       "      <th></th>\n",
       "      <th>week_start</th>\n",
       "      <th>week_file_nm</th>\n",
       "      <th>data_list</th>\n",
       "    </tr>\n",
       "  </thead>\n",
       "  <tbody>\n",
       "    <tr>\n",
       "      <th>0</th>\n",
       "      <td>1978-10-23</td>\n",
       "      <td>10000.npy</td>\n",
       "      <td>19781026.npy,19781028.npy</td>\n",
       "    </tr>\n",
       "    <tr>\n",
       "      <th>1</th>\n",
       "      <td>1978-10-30</td>\n",
       "      <td>10001.npy</td>\n",
       "      <td>19781030.npy,19781101.npy,19781103.npy,1978110...</td>\n",
       "    </tr>\n",
       "    <tr>\n",
       "      <th>2</th>\n",
       "      <td>1978-11-06</td>\n",
       "      <td>10002.npy</td>\n",
       "      <td>19781107.npy,19781109.npy,19781111.npy</td>\n",
       "    </tr>\n",
       "    <tr>\n",
       "      <th>3</th>\n",
       "      <td>1978-11-13</td>\n",
       "      <td>10003.npy</td>\n",
       "      <td>19781113.npy,19781115.npy,19781117.npy,1978111...</td>\n",
       "    </tr>\n",
       "    <tr>\n",
       "      <th>4</th>\n",
       "      <td>1978-11-20</td>\n",
       "      <td>10004.npy</td>\n",
       "      <td>19781121.npy,19781123.npy,19781125.npy</td>\n",
       "    </tr>\n",
       "  </tbody>\n",
       "</table>\n",
       "</div>"
      ],
      "text/plain": [
       "   week_start week_file_nm                                          data_list\n",
       "0  1978-10-23    10000.npy                          19781026.npy,19781028.npy\n",
       "1  1978-10-30    10001.npy  19781030.npy,19781101.npy,19781103.npy,1978110...\n",
       "2  1978-11-06    10002.npy             19781107.npy,19781109.npy,19781111.npy\n",
       "3  1978-11-13    10003.npy  19781113.npy,19781115.npy,19781117.npy,1978111...\n",
       "4  1978-11-20    10004.npy             19781121.npy,19781123.npy,19781125.npy"
      ]
     },
     "execution_count": 5,
     "metadata": {},
     "output_type": "execute_result"
    }
   ],
   "source": [
    "train.head()"
   ]
  },
  {
   "cell_type": "code",
   "execution_count": 6,
   "metadata": {},
   "outputs": [
    {
     "data": {
      "text/html": [
       "<div>\n",
       "<style scoped>\n",
       "    .dataframe tbody tr th:only-of-type {\n",
       "        vertical-align: middle;\n",
       "    }\n",
       "\n",
       "    .dataframe tbody tr th {\n",
       "        vertical-align: top;\n",
       "    }\n",
       "\n",
       "    .dataframe thead th {\n",
       "        text-align: right;\n",
       "    }\n",
       "</style>\n",
       "<table border=\"1\" class=\"dataframe\">\n",
       "  <thead>\n",
       "    <tr style=\"text-align: right;\">\n",
       "      <th></th>\n",
       "      <th>week_start</th>\n",
       "      <th>week_file_nm</th>\n",
       "      <th>data_list</th>\n",
       "    </tr>\n",
       "  </thead>\n",
       "  <tbody>\n",
       "    <tr>\n",
       "      <th>19</th>\n",
       "      <td>2020-05-18</td>\n",
       "      <td>12169.npy</td>\n",
       "      <td>20200518.npy,20200519.npy,20200520.npy,2020052...</td>\n",
       "    </tr>\n",
       "    <tr>\n",
       "      <th>20</th>\n",
       "      <td>2020-05-25</td>\n",
       "      <td>12170.npy</td>\n",
       "      <td>20200525.npy,20200526.npy,20200527.npy,2020052...</td>\n",
       "    </tr>\n",
       "    <tr>\n",
       "      <th>21</th>\n",
       "      <td>2020-06-01</td>\n",
       "      <td>12171.npy</td>\n",
       "      <td>20200601.npy,20200602.npy,20200603.npy,2020060...</td>\n",
       "    </tr>\n",
       "    <tr>\n",
       "      <th>22</th>\n",
       "      <td>2020-06-08</td>\n",
       "      <td>12172.npy</td>\n",
       "      <td>20200608.npy,20200609.npy,20200610.npy,2020061...</td>\n",
       "    </tr>\n",
       "    <tr>\n",
       "      <th>23</th>\n",
       "      <td>2020-06-15</td>\n",
       "      <td>12173.npy</td>\n",
       "      <td>20200615.npy,20200616.npy,20200617.npy,2020061...</td>\n",
       "    </tr>\n",
       "  </tbody>\n",
       "</table>\n",
       "</div>"
      ],
      "text/plain": [
       "    week_start week_file_nm                                          data_list\n",
       "19  2020-05-18    12169.npy  20200518.npy,20200519.npy,20200520.npy,2020052...\n",
       "20  2020-05-25    12170.npy  20200525.npy,20200526.npy,20200527.npy,2020052...\n",
       "21  2020-06-01    12171.npy  20200601.npy,20200602.npy,20200603.npy,2020060...\n",
       "22  2020-06-08    12172.npy  20200608.npy,20200609.npy,20200610.npy,2020061...\n",
       "23  2020-06-15    12173.npy  20200615.npy,20200616.npy,20200617.npy,2020061..."
      ]
     },
     "execution_count": 6,
     "metadata": {},
     "output_type": "execute_result"
    }
   ],
   "source": [
    "test.tail()"
   ]
  },
  {
   "cell_type": "markdown",
   "metadata": {},
   "source": [
    "# 시각화 & 전처리"
   ]
  },
  {
   "cell_type": "markdown",
   "metadata": {},
   "source": [
    "최근 약 30년(52주 * 30년) 주별 데이터만을 사용하였습니다."
   ]
  },
  {
   "cell_type": "code",
   "execution_count": 7,
   "metadata": {},
   "outputs": [],
   "source": [
    "train_data_path = 'data/weekly_train/'+train.tail(52*30)['week_file_nm'].values"
   ]
  },
  {
   "cell_type": "code",
   "execution_count": 8,
   "metadata": {},
   "outputs": [],
   "source": [
    "sample = np.load(train_data_path[-1])"
   ]
  },
  {
   "cell_type": "markdown",
   "metadata": {},
   "source": [
    "각 파일은 해빙 농도(0~250), 북극점(위성 관측 불가 영역), 해안선 마스크, 육지 마스크, 결측값 5개 채널의 배열로 구성되어있습니다."
   ]
  },
  {
   "cell_type": "code",
   "execution_count": 9,
   "metadata": {},
   "outputs": [
    {
     "data": {
      "image/png": "[encoded data removed]",
      "text/plain": [
       "<Figure size 1080x360 with 5 Axes>"
      ]
     },
     "metadata": {
      "needs_background": "light"
     },
     "output_type": "display_data"
    }
   ],
   "source": [
    "plt.figure(figsize=(15,5))\n",
    "for c in range(sample.shape[-1]):\n",
    "    plt.subplot(1,5,c+1)\n",
    "    plt.imshow(sample[:,:,c])\n",
    "plt.show()"
   ]
  },
  {
   "cell_type": "markdown",
   "metadata": {},
   "source": [
    "테스트 활용 가능 마지막 제공 데이터와 맞춰야하는 기간 사이에는 2주의 공백이 있습니다.\n",
    "\n",
    "과거 12주의 해빙 변화를 보고 2주 뒤부터 12주간 의 변화르 예측하는 모델을 만들겠습니다."
   ]
  },
  {
   "cell_type": "code",
   "execution_count": 10,
   "metadata": {},
   "outputs": [],
   "source": [
    "input_window_size = 12\n",
    "target_window_size = 12\n",
    "gap = 2\n",
    "step = 1\n",
    "input_data_list, target_data_list = [], []\n",
    "\n",
    "for i in range(0, len(train_data_path)-input_window_size-target_window_size-gap+1, step):\n",
    "    input_data = train_data_path[i:i+input_window_size]\n",
    "    target_data = train_data_path[i+input_window_size+gap:i+input_window_size+gap+target_window_size]\n",
    "    input_data_list.append(input_data)\n",
    "    target_data_list.append(target_data)"
   ]
  },
  {
   "cell_type": "code",
   "execution_count": 11,
   "metadata": {},
   "outputs": [
    {
     "data": {
      "text/plain": [
       "array(['data/weekly_train/12148.npy', 'data/weekly_train/12149.npy',\n",
       "       'data/weekly_train/12150.npy', 'data/weekly_train/12151.npy',\n",
       "       'data/weekly_train/12152.npy', 'data/weekly_train/12153.npy',\n",
       "       'data/weekly_train/12154.npy', 'data/weekly_train/12155.npy',\n",
       "       'data/weekly_train/12156.npy', 'data/weekly_train/12157.npy',\n",
       "       'data/weekly_train/12158.npy', 'data/weekly_train/12159.npy'],\n",
       "      dtype=object)"
      ]
     },
     "execution_count": 11,
     "metadata": {},
     "output_type": "execute_result"
    }
   ],
   "source": [
    "input_data_list[-1]"
   ]
  },
  {
   "cell_type": "code",
   "execution_count": 12,
   "metadata": {},
   "outputs": [
    {
     "data": {
      "text/plain": [
       "array(['data/weekly_train/12162.npy', 'data/weekly_train/12163.npy',\n",
       "       'data/weekly_train/12164.npy', 'data/weekly_train/12165.npy',\n",
       "       'data/weekly_train/12166.npy', 'data/weekly_train/12167.npy',\n",
       "       'data/weekly_train/12168.npy', 'data/weekly_train/12169.npy',\n",
       "       'data/weekly_train/12170.npy', 'data/weekly_train/12171.npy',\n",
       "       'data/weekly_train/12172.npy', 'data/weekly_train/12173.npy'],\n",
       "      dtype=object)"
      ]
     },
     "execution_count": 12,
     "metadata": {},
     "output_type": "execute_result"
    }
   ],
   "source": [
    "target_data_list[-1]"
   ]
  },
  {
   "cell_type": "markdown",
   "metadata": {},
   "source": [
    "## 데이터셋\n",
    "\n",
    "학습과 검증용 데이터로 분리합니다.\n",
    "\n",
    "최근 1년(52주)을 검증 데이터셋으로 사용하였습니다."
   ]
  },
  {
   "cell_type": "code",
   "execution_count": 13,
   "metadata": {},
   "outputs": [],
   "source": [
    "def train_map_func(x_list, y_list):\n",
    "    train_x, train_y = [], []\n",
    "    for path in x_list:\n",
    "        train_x.append(np.load(path)[:,:,0:1])\n",
    "    for path in y_list:\n",
    "        train_y.append(np.load(path)[:,:,0:1])\n",
    "    train_x = np.array(train_x)\n",
    "    train_y = np.array(train_y)\n",
    "    \n",
    "    train_x = train_x.astype(np.float32)/250\n",
    "    train_y = train_y.astype(np.float32)/250\n",
    "    return train_x, train_y"
   ]
  },
  {
   "cell_type": "code",
   "execution_count": 14,
   "metadata": {},
   "outputs": [],
   "source": [
    "BATCH_SIZE = 2"
   ]
  },
  {
   "cell_type": "code",
   "execution_count": 15,
   "metadata": {},
   "outputs": [],
   "source": [
    "train_dataset = tf.data.Dataset.from_tensor_slices((input_data_list[:-52], target_data_list[:-52]))\n",
    "train_dataset = train_dataset.map(lambda item1, item2: tf.numpy_function(train_map_func, [item1, item2], [tf.float32, tf.float32]), num_parallel_calls=tf.data.experimental.AUTOTUNE)\n",
    "train_dataset = train_dataset.batch(BATCH_SIZE)\n",
    "train_dataset = train_dataset.prefetch(buffer_size=tf.data.experimental.AUTOTUNE)\n",
    "\n",
    "val_dataset = tf.data.Dataset.from_tensor_slices((input_data_list[-52:], target_data_list[-52:]))\n",
    "val_dataset = val_dataset.map(lambda item1, item2: tf.numpy_function(train_map_func, [item1, item2], [tf.float32, tf.float32]), num_parallel_calls=tf.data.experimental.AUTOTUNE)\n",
    "val_dataset = val_dataset.batch(BATCH_SIZE)\n",
    "val_dataset = val_dataset.prefetch(buffer_size=tf.data.experimental.AUTOTUNE)"
   ]
  },
  {
   "cell_type": "code",
   "execution_count": 16,
   "metadata": {},
   "outputs": [
    {
     "data": {
      "text/plain": [
       "(TensorShape([2, 12, 448, 304, 1]),\n",
       " TensorShape([2, 12, 448, 304, 1]),\n",
       " TensorShape([2, 12, 448, 304, 1]),\n",
       " TensorShape([2, 12, 448, 304, 1]))"
      ]
     },
     "execution_count": 16,
     "metadata": {},
     "output_type": "execute_result"
    }
   ],
   "source": [
    "next(iter(train_dataset))[0].shape, next(iter(train_dataset))[1].shape, next(iter(val_dataset))[0].shape, next(iter(val_dataset))[1].shape"
   ]
  },
  {
   "cell_type": "markdown",
   "metadata": {},
   "source": [
    "# 모델\n",
    "\n",
    "ConvLSTMCell을 이용하여 Seq2Seq모델을 만들었습니다."
   ]
  },
  {
   "cell_type": "markdown",
   "metadata": {},
   "source": [
    "## ConvLSTMCell"
   ]
  },
  {
   "cell_type": "code",
   "execution_count": 17,
   "metadata": {},
   "outputs": [],
   "source": [
    "class ConvLSTMCell(tf.keras.Model):\n",
    "    def __init__(self, hidden_dim, kernel_size, bias):\n",
    "        super(ConvLSTMCell, self).__init__()\n",
    "        self.hidden_dim = hidden_dim\n",
    "        \n",
    "        self.kernel_size = kernel_size\n",
    "        self.bias = bias\n",
    "        \n",
    "        self.conv = tf.keras.layers.Conv2D(\n",
    "            filters = 4 * self.hidden_dim,\n",
    "            kernel_size = self.kernel_size,\n",
    "            padding = 'same',\n",
    "            use_bias = self.bias\n",
    "        )\n",
    "        \n",
    "    def call(self, input_tensor, cur_state):\n",
    "        h_cur, c_cur = cur_state\n",
    "        combined = tf.concat([input_tensor, h_cur], axis=3)\n",
    "        combined_conv = self.conv(combined)\n",
    "        cc_i, cc_f, cc_o, cc_g = tf.split(combined_conv, num_or_size_splits=4, axis=-1)\n",
    "        i = tf.keras.activations.sigmoid(cc_i)\n",
    "        f = tf.keras.activations.sigmoid(cc_f)\n",
    "        o = tf.keras.activations.sigmoid(cc_o)\n",
    "        g = tf.keras.activations.tanh(cc_g)\n",
    "        \n",
    "        c_next = f*c_cur+i*g\n",
    "        h_next = o*tf.keras.activations.tanh(c_next)\n",
    "        \n",
    "        return h_next, c_next\n",
    "        \n",
    "    def init_hidden(self, batch_size, image_size):\n",
    "        height, width = image_size\n",
    "        return (tf.zeros([batch_size, height, width, self.hidden_dim]),\n",
    "                tf.zeros([batch_size, height, width, self.hidden_dim]))"
   ]
  },
  {
   "cell_type": "markdown",
   "metadata": {},
   "source": [
    "## Encoder"
   ]
  },
  {
   "cell_type": "code",
   "execution_count": 18,
   "metadata": {},
   "outputs": [],
   "source": [
    "class Encoder(tf.keras.Model):\n",
    "    def __init__(self, hidden, enc_num_layers=1):\n",
    "        super(Encoder, self).__init__()\n",
    "        self.enc_num_layers = enc_num_layers\n",
    "        self.encoder_input_convlstm = ConvLSTMCell(\n",
    "            hidden_dim=hidden,\n",
    "            kernel_size=(3, 3),\n",
    "            bias=True\n",
    "        )\n",
    "        if self.enc_num_layers is not None:\n",
    "            self.hidden_encoder_layers = [\n",
    "                ConvLSTMCell(\n",
    "                    hidden_dim=hidden,\n",
    "                    kernel_size=(3, 3),\n",
    "                    bias=True\n",
    "                ) for _ in range(self.enc_num_layers)\n",
    "            ]\n",
    "        \n",
    "    def call(self, enc_input):\n",
    "        h_t, c_t = self.init_hidden(enc_input, 'seq')\n",
    "        if self.enc_num_layers is not None:\n",
    "            hidden_h_t = []\n",
    "            hidden_c_t = []\n",
    "            for i in range(self.enc_num_layers):\n",
    "                hidden_h_t += [self.init_hidden(h_t, i)[0]]\n",
    "                hidden_c_t += [self.init_hidden(h_t, i)[1]]\n",
    "        \n",
    "        seq_len = enc_input.shape[1]\n",
    "        for t in range(seq_len):\n",
    "            h_t, c_t = self.encoder_input_convlstm(\n",
    "                input_tensor=enc_input[:, t, :, :, :],\n",
    "                cur_state=[h_t, c_t]\n",
    "            )\n",
    "            input_tensor = h_t\n",
    "            if self.enc_num_layers is not None:\n",
    "                for i in range(self.enc_num_layers):\n",
    "                    hidden_h_t[i], hidden_c_t[i] = self.hidden_encoder_layers[i](\n",
    "                        input_tensor=input_tensor,\n",
    "                        cur_state=[hidden_h_t[i], hidden_c_t[i]]\n",
    "                    )\n",
    "                    input_tensor = hidden_h_t[i]\n",
    "        \n",
    "        if self.enc_num_layers is not None:\n",
    "            return hidden_h_t[-1], hidden_c_t[-1]\n",
    "        else:\n",
    "            return h_t, c_t\n",
    "    \n",
    "    def init_hidden(self, input_tensor, seq):\n",
    "        if seq == 'seq':\n",
    "            b, seq_len, h, w, _ = input_tensor.shape\n",
    "            h_t, c_t = self.encoder_input_convlstm.init_hidden(\n",
    "                batch_size=b,\n",
    "                image_size=(h, w)\n",
    "            )\n",
    "        else:\n",
    "            b, h, w, _ = input_tensor.shape\n",
    "            h_t, c_t = self.hidden_encoder_layers[seq].init_hidden(\n",
    "                batch_size=b,\n",
    "                image_size=(h, w)\n",
    "            )\n",
    "        return h_t, c_t"
   ]
  },
  {
   "cell_type": "code",
   "execution_count": 19,
   "metadata": {},
   "outputs": [
    {
     "data": {
      "text/plain": [
       "(TensorShape([2, 448, 304, 16]), TensorShape([2, 448, 304, 16]))"
      ]
     },
     "execution_count": 19,
     "metadata": {},
     "output_type": "execute_result"
    }
   ],
   "source": [
    "sample_enc_input_data = next(iter(train_dataset))[0]\n",
    "sample_encoder = Encoder(16, 1)\n",
    "enc_output = sample_encoder(sample_enc_input_data)\n",
    "enc_output[0].shape, enc_output[1].shape"
   ]
  },
  {
   "cell_type": "markdown",
   "metadata": {},
   "source": [
    "## Decoder"
   ]
  },
  {
   "cell_type": "code",
   "execution_count": 20,
   "metadata": {},
   "outputs": [],
   "source": [
    "class Decoder(tf.keras.Model):\n",
    "    def __init__(self, hidden, dec_num_layers=1, future_len=12):\n",
    "        super(Decoder, self).__init__()\n",
    "        self.dec_num_layers = dec_num_layers\n",
    "        self.future_len = future_len\n",
    "        self.decoder_input_convlstm = ConvLSTMCell(\n",
    "            hidden_dim=hidden,\n",
    "            kernel_size=(3, 3),\n",
    "            bias=True\n",
    "        )\n",
    "        if self.dec_num_layers is not None:\n",
    "            self.hidden_decoder_layers = [\n",
    "                ConvLSTMCell(\n",
    "                    hidden_dim=hidden,\n",
    "                    kernel_size=(3, 3),\n",
    "                    bias=True\n",
    "                ) for _ in range(dec_num_layers)\n",
    "            ]\n",
    "        \n",
    "        self.decoder_output_layer = tf.keras.layers.Conv2D(\n",
    "            filters=1,\n",
    "            kernel_size=(3,3),\n",
    "            padding='same',\n",
    "            activation='sigmoid'\n",
    "        )\n",
    "        \n",
    "    def call(self, enc_output):\n",
    "        if self.dec_num_layers is not None:\n",
    "            hidden_h_t = []\n",
    "            hidden_c_t = []\n",
    "            for i in range(self.dec_num_layers):\n",
    "                hidden_h_t += [self.init_hidden(enc_output[0], i)[0]]\n",
    "                hidden_c_t += [self.init_hidden(enc_output[0], i)[1]]\n",
    "                \n",
    "        outputs = []\n",
    "        input_tensor = enc_output[0]\n",
    "        h_t, c_t = self.init_hidden(input_tensor, 'seq')\n",
    "        for t in range(self.future_len):\n",
    "            h_t, c_t=self.decoder_input_convlstm(\n",
    "                input_tensor=input_tensor,\n",
    "                cur_state=[h_t, c_t]\n",
    "            )\n",
    "            input_tensor = h_t\n",
    "            if self.dec_num_layers is not None:\n",
    "                for i in range(self.dec_num_layers):\n",
    "                    hidden_h_t[i], hidden_c_t[i] = self.hidden_decoder_layers[i](\n",
    "                        input_tensor=input_tensor,\n",
    "                        cur_state=[hidden_h_t[i], hidden_c_t[i]]\n",
    "                    )\n",
    "                    input_tensor=hidden_h_t[i]\n",
    "                output = self.decoder_output_layer(hidden_h_t[-1])\n",
    "            else:\n",
    "                output = self.decoder_output_layer(h_t)\n",
    "            outputs += [output]\n",
    "        outputs = tf.stack(outputs, 1)\n",
    "        \n",
    "        return outputs\n",
    "    \n",
    "    def init_hidden(self, input_tensor, seq):\n",
    "        if seq == 'seq':\n",
    "            b, h, w, _ = input_tensor.shape\n",
    "            h_t, c_t = self.decoder_input_convlstm.init_hidden(\n",
    "                batch_size=b,\n",
    "                image_size=(h, w)\n",
    "            )\n",
    "        else:\n",
    "            b, h, w, _ = input_tensor.shape\n",
    "            h_t, c_t = self.hidden_decoder_layers[seq].init_hidden(\n",
    "                batch_size=b,\n",
    "                image_size=(h, w)\n",
    "            )\n",
    "        return h_t, c_t"
   ]
  },
  {
   "cell_type": "code",
   "execution_count": 21,
   "metadata": {},
   "outputs": [
    {
     "data": {
      "text/plain": [
       "TensorShape([2, 12, 448, 304, 1])"
      ]
     },
     "execution_count": 21,
     "metadata": {},
     "output_type": "execute_result"
    }
   ],
   "source": [
    "sample_decoder = Decoder(16)\n",
    "dec_output = sample_decoder(enc_output)\n",
    "dec_output.shape"
   ]
  },
  {
   "cell_type": "markdown",
   "metadata": {},
   "source": [
    "## Seq2Seq\n",
    "\n",
    "Encoder와 Decoder를 연결한 최종 모델입니다."
   ]
  },
  {
   "cell_type": "code",
   "execution_count": 22,
   "metadata": {},
   "outputs": [],
   "source": [
    "class Seq2Seq(tf.keras.Model):\n",
    "    def __init__(self, hidden, enc_num_layers=1, dec_num_layers=1):\n",
    "        super(Seq2Seq, self).__init__()\n",
    "        self.encoder = Encoder(hidden, enc_num_layers)\n",
    "        self.decoder = Decoder(hidden, dec_num_layers)\n",
    "        \n",
    "    def call(self, enc_input):\n",
    "        enc_output = self.encoder(enc_input)\n",
    "        dec_output = self.decoder(enc_output)\n",
    "        \n",
    "        return dec_output"
   ]
  },
  {
   "cell_type": "code",
   "execution_count": 23,
   "metadata": {},
   "outputs": [],
   "source": [
    "model = Seq2Seq(16, 1, 1)"
   ]
  },
  {
   "cell_type": "markdown",
   "metadata": {},
   "source": [
    "## 학습률 & 옵티마이저"
   ]
  },
  {
   "cell_type": "code",
   "execution_count": 24,
   "metadata": {},
   "outputs": [],
   "source": [
    "learning_rate = 0.0005\n",
    "optimizer = tf.keras.optimizers.Adam(learning_rate)"
   ]
  },
  {
   "cell_type": "markdown",
   "metadata": {},
   "source": [
    "## 손실 함수\n",
    "\n",
    "손실함수로 MAE를 사용하였습니다."
   ]
  },
  {
   "cell_type": "code",
   "execution_count": 25,
   "metadata": {},
   "outputs": [],
   "source": [
    "@tf.function\n",
    "def loss_function(output, target):\n",
    "    mae_loss = tf.math.reduce_mean(tf.keras.losses.MAE(output, target))\n",
    "    return mae_loss"
   ]
  },
  {
   "cell_type": "markdown",
   "metadata": {},
   "source": [
    "## 대회 산식(MAE / F1)\n",
    "\n",
    "검증용으로 사용하였습니다."
   ]
  },
  {
   "cell_type": "code",
   "execution_count": 26,
   "metadata": {},
   "outputs": [],
   "source": [
    "def mae_score(true, pred):\n",
    "    score = np.mean(np.abs(true-pred))\n",
    "    return score\n",
    "\n",
    "def f1_score(true, pred):\n",
    "    target = np.where((true > 0.05) & (true < 0.5))\n",
    "    \n",
    "    true = true[target]\n",
    "    pred = pred[target]\n",
    "    \n",
    "    true = np.where(true < 0.15, 0, 1)\n",
    "    pred = np.where(pred < 0.15, 0, 1)\n",
    "    \n",
    "    right = np.sum(true * pred == 1)\n",
    "    precision = right / np.sum(true + 1e-8)\n",
    "    recall = right / np.sum(pred + 1e-8)\n",
    "\n",
    "    score = 2 * precision * recall / (precision + recall + 1e-8)\n",
    "    \n",
    "    return score\n",
    "\n",
    "def mae_over_f1(true, pred):\n",
    "    mae = mae_score(true, pred)\n",
    "    f1 = f1_score(true, pred)\n",
    "    score = mae/(f1 + 1e-8)\n",
    "    \n",
    "    return score\n",
    "\n",
    "def val_score(inp, targ):\n",
    "    output = model(inp)\n",
    "    score = mae_over_f1(targ.numpy(), output.numpy())\n",
    "    return score"
   ]
  },
  {
   "cell_type": "markdown",
   "metadata": {},
   "source": [
    "## 학습 정의"
   ]
  },
  {
   "cell_type": "code",
   "execution_count": 27,
   "metadata": {},
   "outputs": [],
   "source": [
    "@tf.function\n",
    "def train_step(inp, targ, training):\n",
    "    loss = 0\n",
    "    with tf.GradientTape() as tape:\n",
    "        output = model(inp)\n",
    "        for t in range(targ.shape[1]):\n",
    "            loss += loss_function(targ[:, t], output[:, t])\n",
    "            \n",
    "    batch_loss = (loss / int(targ.shape[1]))\n",
    "    \n",
    "    if training==True:\n",
    "        variables = model.trainable_variables\n",
    "        gradients = tape.gradient(loss, variables)\n",
    "        optimizer.apply_gradients(zip(gradients, variables))\n",
    "        \n",
    "    return batch_loss"
   ]
  },
  {
   "cell_type": "code",
   "execution_count": 28,
   "metadata": {},
   "outputs": [
    {
     "data": {
      "text/plain": [
       "14605"
      ]
     },
     "execution_count": 28,
     "metadata": {},
     "output_type": "execute_result"
    }
   ],
   "source": [
    "gc.collect()"
   ]
  },
  {
   "cell_type": "markdown",
   "metadata": {},
   "source": [
    "## 체크포인트"
   ]
  },
  {
   "cell_type": "code",
   "execution_count": 29,
   "metadata": {},
   "outputs": [],
   "source": [
    "checkpoint_path = './checkpoint/'\n",
    "os.makedirs(checkpoint_path, exist_ok=True)\n",
    "ckpt = tf.train.Checkpoint(\n",
    "    Seq2Seq=model, \n",
    "    optimizer=optimizer\n",
    ")\n",
    "ckpt_manager = tf.train.CheckpointManager(ckpt, checkpoint_path, max_to_keep=5)"
   ]
  },
  {
   "cell_type": "code",
   "execution_count": 30,
   "metadata": {},
   "outputs": [],
   "source": [
    "start_epoch = 0\n",
    "if ckpt_manager.latest_checkpoint:\n",
    "    start_epoch = int(ckpt_manager.latest_checkpoint.split('-')[-1])\n",
    "    ckpt.restore(ckpt_manager.latest_checkpoint)\n",
    "    print(ckpt_manager.latest_checkpoint)"
   ]
  },
  {
   "cell_type": "markdown",
   "metadata": {},
   "source": [
    "## 학습"
   ]
  },
  {
   "cell_type": "code",
   "execution_count": null,
   "metadata": {},
   "outputs": [
    {
     "name": "stderr",
     "output_type": "stream",
     "text": [
      "\r",
      "0it [00:00, ?it/s]"
     ]
    },
    {
     "name": "stdout",
     "output_type": "stream",
     "text": [
      "WARNING:tensorflow:AutoGraph could not transform <function train_step at 0x16a483e50> and will run it as-is.\n",
      "Please report this to the TensorFlow team. When filing the bug, set the verbosity to 10 (on Linux, `export AUTOGRAPH_VERBOSITY=10`) and attach the full output.\n",
      "Cause: module 'gast' has no attribute 'Index'\n",
      "To silence this warning, decorate the function with @tf.autograph.experimental.do_not_convert\n"
     ]
    },
    {
     "name": "stderr",
     "output_type": "stream",
     "text": [
      "WARNING:tensorflow:AutoGraph could not transform <function train_step at 0x16a483e50> and will run it as-is.\n",
      "Please report this to the TensorFlow team. When filing the bug, set the verbosity to 10 (on Linux, `export AUTOGRAPH_VERBOSITY=10`) and attach the full output.\n",
      "Cause: module 'gast' has no attribute 'Index'\n",
      "To silence this warning, decorate the function with @tf.autograph.experimental.do_not_convert\n"
     ]
    },
    {
     "name": "stdout",
     "output_type": "stream",
     "text": [
      "WARNING: AutoGraph could not transform <function train_step at 0x16a483e50> and will run it as-is.\n",
      "Please report this to the TensorFlow team. When filing the bug, set the verbosity to 10 (on Linux, `export AUTOGRAPH_VERBOSITY=10`) and attach the full output.\n",
      "Cause: module 'gast' has no attribute 'Index'\n",
      "To silence this warning, decorate the function with @tf.autograph.experimental.do_not_convert\n",
      "WARNING:tensorflow:AutoGraph could not transform <bound method Encoder.call of <__main__.Encoder object at 0x1661e64c0>> and will run it as-is.\n",
      "Please report this to the TensorFlow team. When filing the bug, set the verbosity to 10 (on Linux, `export AUTOGRAPH_VERBOSITY=10`) and attach the full output.\n",
      "Cause: module 'gast' has no attribute 'Index'\n",
      "To silence this warning, decorate the function with @tf.autograph.experimental.do_not_convert\n"
     ]
    },
    {
     "name": "stderr",
     "output_type": "stream",
     "text": [
      "WARNING:tensorflow:AutoGraph could not transform <bound method Encoder.call of <__main__.Encoder object at 0x1661e64c0>> and will run it as-is.\n",
      "Please report this to the TensorFlow team. When filing the bug, set the verbosity to 10 (on Linux, `export AUTOGRAPH_VERBOSITY=10`) and attach the full output.\n",
      "Cause: module 'gast' has no attribute 'Index'\n",
      "To silence this warning, decorate the function with @tf.autograph.experimental.do_not_convert\n"
     ]
    },
    {
     "name": "stdout",
     "output_type": "stream",
     "text": [
      "WARNING: AutoGraph could not transform <bound method Encoder.call of <__main__.Encoder object at 0x1661e64c0>> and will run it as-is.\n",
      "Please report this to the TensorFlow team. When filing the bug, set the verbosity to 10 (on Linux, `export AUTOGRAPH_VERBOSITY=10`) and attach the full output.\n",
      "Cause: module 'gast' has no attribute 'Index'\n",
      "To silence this warning, decorate the function with @tf.autograph.experimental.do_not_convert\n",
      "WARNING:tensorflow:AutoGraph could not transform <bound method Decoder.call of <__main__.Decoder object at 0x1661ddca0>> and will run it as-is.\n",
      "Please report this to the TensorFlow team. When filing the bug, set the verbosity to 10 (on Linux, `export AUTOGRAPH_VERBOSITY=10`) and attach the full output.\n",
      "Cause: module 'gast' has no attribute 'Index'\n",
      "To silence this warning, decorate the function with @tf.autograph.experimental.do_not_convert\n"
     ]
    },
    {
     "name": "stderr",
     "output_type": "stream",
     "text": [
      "WARNING:tensorflow:AutoGraph could not transform <bound method Decoder.call of <__main__.Decoder object at 0x1661ddca0>> and will run it as-is.\n",
      "Please report this to the TensorFlow team. When filing the bug, set the verbosity to 10 (on Linux, `export AUTOGRAPH_VERBOSITY=10`) and attach the full output.\n",
      "Cause: module 'gast' has no attribute 'Index'\n",
      "To silence this warning, decorate the function with @tf.autograph.experimental.do_not_convert\n"
     ]
    },
    {
     "name": "stdout",
     "output_type": "stream",
     "text": [
      "WARNING: AutoGraph could not transform <bound method Decoder.call of <__main__.Decoder object at 0x1661ddca0>> and will run it as-is.\n",
      "Please report this to the TensorFlow team. When filing the bug, set the verbosity to 10 (on Linux, `export AUTOGRAPH_VERBOSITY=10`) and attach the full output.\n",
      "Cause: module 'gast' has no attribute 'Index'\n",
      "To silence this warning, decorate the function with @tf.autograph.experimental.do_not_convert\n"
     ]
    },
    {
     "name": "stderr",
     "output_type": "stream",
     "text": [
      "1it [00:54, 54.60s/it, Epoch=1, Loss=121.352926, Total Loss=121.352928]"
     ]
    }
   ],
   "source": [
    "EPOCHS = 50\n",
    "\n",
    "loss_plot, val_score_plot = [], []\n",
    "for epoch in range(EPOCHS):\n",
    "    total_loss, total_val_score = 0, 0\n",
    "    \n",
    "    tqdm_dataset = tqdm(enumerate(train_dataset))\n",
    "    for (batch, (inp, targ)) in tqdm_dataset:\n",
    "        batch_loss = train_step(inp, targ, True)\n",
    "        total_loss += batch_loss\n",
    "        \n",
    "        tqdm_dataset.set_postfix({\n",
    "            'Epoch': epoch + 1,\n",
    "            'Loss': '{:06f}'.format(250*batch_loss.numpy().mean()),\n",
    "            'Total Loss' : '{:06f}'.format(250*total_loss/(batch+1))\n",
    "        })\n",
    "    loss_plot.append(250*total_loss/(batch+1))\n",
    "    \n",
    "    tqdm_dataset_val = tqdm(enumerate(val_dataset))\n",
    "    for (batch, (inp, targ)) in tqdm_dataset_val:\n",
    "        batch_val_score = val_score(inp, targ)\n",
    "        total_val_score += batch_val_score.mean()\n",
    "        \n",
    "        tqdm_dataset_val.set_postfix({\n",
    "            'Epoch': epoch + 1,\n",
    "            'Val Score': '{:06f}'.format(250*batch_val_score.mean()),\n",
    "            'Val Total_Score' : '{:06f}'.format(250*total_val_score/(batch+1))\n",
    "        })\n",
    "    val_score_plot.append(250*total_val_score/(batch+1))\n",
    "    \n",
    "    if np.min(val_score_plot) == val_score_plot[-1]:\n",
    "        ckpt_manager.save()"
   ]
  },
  {
   "cell_type": "markdown",
   "metadata": {},
   "source": [
    "## 학습 결과"
   ]
  },
  {
   "cell_type": "code",
   "execution_count": null,
   "metadata": {},
   "outputs": [],
   "source": [
    "plt.plot(loss_plot)\n",
    "plt.title('loss_plot')\n",
    "plt.show()\n",
    "\n",
    "plt.plot(val_score_plot)\n",
    "plt.title('val_score_plot')\n",
    "plt.show()"
   ]
  },
  {
   "cell_type": "markdown",
   "metadata": {},
   "source": [
    "## 모델복원"
   ]
  },
  {
   "cell_type": "code",
   "execution_count": null,
   "metadata": {},
   "outputs": [],
   "source": [
    "ckpt.restore(ckpt_manager.latest_checkpoint)"
   ]
  },
  {
   "cell_type": "markdown",
   "metadata": {},
   "source": [
    "## 추론"
   ]
  },
  {
   "cell_type": "code",
   "execution_count": null,
   "metadata": {},
   "outputs": [],
   "source": [
    "test = pd.read_csv('data/public_weekly_test.csv')\n",
    "test_path = './data/weekly_train/'+test.tail(12)['week_file_nm']"
   ]
  },
  {
   "cell_type": "code",
   "execution_count": null,
   "metadata": {},
   "outputs": [],
   "source": [
    "def predict(img_path):\n",
    "    test_imgs=[]\n",
    "    for path in img_path:\n",
    "        test_imgs.append(np.load(path)[:,:,0:1].astype(np.float32)/250)\n",
    "    test_imgs = np.array([test_imgs])\n",
    "    enc_input = tf.convert_to_tensor(test_imgs)\n",
    "    pred = model(enc_input)[0].numpy()*250\n",
    "    \n",
    "    return pred"
   ]
  },
  {
   "cell_type": "code",
   "execution_count": null,
   "metadata": {},
   "outputs": [],
   "source": [
    "pred = predict(test_path)"
   ]
  },
  {
   "cell_type": "code",
   "execution_count": null,
   "metadata": {},
   "outputs": [],
   "source": [
    "for i in range(12):\n",
    "    plt.imshow(pred[i])\n",
    "    plt.show()"
   ]
  },
  {
   "cell_type": "markdown",
   "metadata": {},
   "source": [
    "## 제출"
   ]
  },
  {
   "cell_type": "code",
   "execution_count": null,
   "metadata": {},
   "outputs": [],
   "source": [
    "submission = pd.read_csv('data/sample_submission.csv')"
   ]
  },
  {
   "cell_type": "code",
   "execution_count": null,
   "metadata": {},
   "outputs": [],
   "source": [
    "sub_2020 = submission.loc[:11, ['week_start']].copy()\n",
    "sub_2021 = submission.loc[12:].copy()\n",
    "\n",
    "sub_2020 = pd.concat([sub_2020, (pd.DataFrame(pred.reshape([12,-1])))], axis=1)\n",
    "sub_2021.columns = sub_2020.columns\n",
    "submission = pd.concat([sub_2020, sub_2021])"
   ]
  },
  {
   "cell_type": "code",
   "execution_count": null,
   "metadata": {},
   "outputs": [],
   "source": [
    "submission.to_csv('baseline.csv', index=False)"
   ]
  }
 ],
 "metadata": {
  "interpreter": {
   "hash": "cfa0f6244bab1a0eecbbf3745d828d43fc1ef6893b18d237a80ac5f86454771f"
  },
  "kernelspec": {
   "display_name": "Python 3",
   "language": "python",
   "name": "python3"
  },
  "language_info": {
   "codemirror_mode": {
    "name": "ipython",
    "version": 3
   },
   "file_extension": ".py",
   "mimetype": "text/x-python",
   "name": "python",
   "nbconvert_exporter": "python",
   "pygments_lexer": "ipython3",
   "version": "3.8.10"
  }
 },
 "nbformat": 4,
 "nbformat_minor": 4
}
